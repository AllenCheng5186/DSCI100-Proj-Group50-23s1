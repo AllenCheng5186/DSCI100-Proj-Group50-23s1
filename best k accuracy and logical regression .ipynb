{
 "cells": [
  {
   "cell_type": "code",
   "execution_count": 1,
   "id": "284269c3-1751-4f5a-9011-4400c0c81832",
   "metadata": {},
   "outputs": [
    {
     "name": "stderr",
     "output_type": "stream",
     "text": [
      "── \u001b[1mAttaching packages\u001b[22m ─────────────────────────────────────── tidyverse 1.3.1 ──\n",
      "\n",
      "\u001b[32m✔\u001b[39m \u001b[34mggplot2\u001b[39m 3.3.6     \u001b[32m✔\u001b[39m \u001b[34mpurrr  \u001b[39m 0.3.4\n",
      "\u001b[32m✔\u001b[39m \u001b[34mtibble \u001b[39m 3.1.7     \u001b[32m✔\u001b[39m \u001b[34mdplyr  \u001b[39m 1.0.9\n",
      "\u001b[32m✔\u001b[39m \u001b[34mtidyr  \u001b[39m 1.2.0     \u001b[32m✔\u001b[39m \u001b[34mstringr\u001b[39m 1.4.0\n",
      "\u001b[32m✔\u001b[39m \u001b[34mreadr  \u001b[39m 2.1.2     \u001b[32m✔\u001b[39m \u001b[34mforcats\u001b[39m 0.5.1\n",
      "\n",
      "── \u001b[1mConflicts\u001b[22m ────────────────────────────────────────── tidyverse_conflicts() ──\n",
      "\u001b[31m✖\u001b[39m \u001b[34mdplyr\u001b[39m::\u001b[32mfilter()\u001b[39m masks \u001b[34mstats\u001b[39m::filter()\n",
      "\u001b[31m✖\u001b[39m \u001b[34mdplyr\u001b[39m::\u001b[32mlag()\u001b[39m    masks \u001b[34mstats\u001b[39m::lag()\n",
      "\n",
      "── \u001b[1mAttaching packages\u001b[22m ────────────────────────────────────── tidymodels 1.0.0 ──\n",
      "\n",
      "\u001b[32m✔\u001b[39m \u001b[34mbroom       \u001b[39m 1.0.0     \u001b[32m✔\u001b[39m \u001b[34mrsample     \u001b[39m 1.0.0\n",
      "\u001b[32m✔\u001b[39m \u001b[34mdials       \u001b[39m 1.0.0     \u001b[32m✔\u001b[39m \u001b[34mtune        \u001b[39m 1.0.0\n",
      "\u001b[32m✔\u001b[39m \u001b[34minfer       \u001b[39m 1.0.2     \u001b[32m✔\u001b[39m \u001b[34mworkflows   \u001b[39m 1.0.0\n",
      "\u001b[32m✔\u001b[39m \u001b[34mmodeldata   \u001b[39m 1.0.0     \u001b[32m✔\u001b[39m \u001b[34mworkflowsets\u001b[39m 1.0.0\n",
      "\u001b[32m✔\u001b[39m \u001b[34mparsnip     \u001b[39m 1.0.0     \u001b[32m✔\u001b[39m \u001b[34myardstick   \u001b[39m 1.0.0\n",
      "\u001b[32m✔\u001b[39m \u001b[34mrecipes     \u001b[39m 1.0.1     \n",
      "\n",
      "── \u001b[1mConflicts\u001b[22m ───────────────────────────────────────── tidymodels_conflicts() ──\n",
      "\u001b[31m✖\u001b[39m \u001b[34mscales\u001b[39m::\u001b[32mdiscard()\u001b[39m masks \u001b[34mpurrr\u001b[39m::discard()\n",
      "\u001b[31m✖\u001b[39m \u001b[34mdplyr\u001b[39m::\u001b[32mfilter()\u001b[39m   masks \u001b[34mstats\u001b[39m::filter()\n",
      "\u001b[31m✖\u001b[39m \u001b[34mrecipes\u001b[39m::\u001b[32mfixed()\u001b[39m  masks \u001b[34mstringr\u001b[39m::fixed()\n",
      "\u001b[31m✖\u001b[39m \u001b[34mdplyr\u001b[39m::\u001b[32mlag()\u001b[39m      masks \u001b[34mstats\u001b[39m::lag()\n",
      "\u001b[31m✖\u001b[39m \u001b[34myardstick\u001b[39m::\u001b[32mspec()\u001b[39m masks \u001b[34mreadr\u001b[39m::spec()\n",
      "\u001b[31m✖\u001b[39m \u001b[34mrecipes\u001b[39m::\u001b[32mstep()\u001b[39m   masks \u001b[34mstats\u001b[39m::step()\n",
      "\u001b[34m•\u001b[39m Search for functions across packages at \u001b[32mhttps://www.tidymodels.org/find/\u001b[39m\n",
      "\n"
     ]
    }
   ],
   "source": [
    "library(tidyverse)\n",
    "library(tidymodels)"
   ]
  },
  {
   "cell_type": "code",
   "execution_count": 2,
   "id": "5db5fcd6-ea49-4873-9f51-f254ae25623b",
   "metadata": {},
   "outputs": [
    {
     "name": "stderr",
     "output_type": "stream",
     "text": [
      "\u001b[1mRows: \u001b[22m\u001b[34m650\u001b[39m \u001b[1mColumns: \u001b[22m\u001b[34m785\u001b[39m\n",
      "\u001b[36m──\u001b[39m \u001b[1mColumn specification\u001b[22m \u001b[36m────────────────────────────────────────────────────────\u001b[39m\n",
      "\u001b[1mDelimiter:\u001b[22m \",\"\n",
      "\u001b[31mchr\u001b[39m   (1): label\n",
      "\u001b[32mdbl\u001b[39m (784): 1, 2, 3, 4, 5, 6, 7, 8, 9, 10, 11, 12, 13, 14, 15, 16, 17, 18, 19...\n",
      "\n",
      "\u001b[36mℹ\u001b[39m Use `spec()` to retrieve the full column specification for this data.\n",
      "\u001b[36mℹ\u001b[39m Specify the column types or set `show_col_types = FALSE` to quiet this message.\n",
      "Warning message:\n",
      "“Too little data to stratify.\n",
      "\u001b[36m•\u001b[39m Resampling will be unstratified.”\n"
     ]
    }
   ],
   "source": [
    "诶呦我真的跑不了<-read_csv(\"data/chr_testing.csv\")\n",
    "split<-initial_split(诶呦我真的跑不了,prop=0.7,strata=label)\n"
   ]
  },
  {
   "cell_type": "code",
   "execution_count": 18,
   "id": "927ed72f-ff00-4c56-b924-22bfea8aa194",
   "metadata": {},
   "outputs": [
    {
     "name": "stderr",
     "output_type": "stream",
     "text": [
      "Warning message:\n",
      "“Too little data to stratify.\n",
      "\u001b[36m•\u001b[39m Resampling will be unstratified.”\n"
     ]
    }
   ],
   "source": [
    "set.seed(2023)\n",
    "split1<-initial_split(诶呦我真的跑不了,prop=0.8,strata=label)"
   ]
  },
  {
   "cell_type": "code",
   "execution_count": 19,
   "id": "1180caee-69a4-4510-8e96-00691925b759",
   "metadata": {},
   "outputs": [
    {
     "name": "stderr",
     "output_type": "stream",
     "text": [
      "Warning message:\n",
      "“Too little data to stratify.\n",
      "\u001b[36m•\u001b[39m Resampling will be unstratified.”\n"
     ]
    }
   ],
   "source": [
    "set.seed(2023)\n",
    "testing<-training(split)\n",
    "split1<-initial_split(testing,prop=0.7,strata=label)"
   ]
  },
  {
   "cell_type": "code",
   "execution_count": 20,
   "id": "650cd07e-2bd7-459b-b2e1-42796a3dc489",
   "metadata": {},
   "outputs": [],
   "source": [
    "chr_training<-training(split1)|>\n",
    "                mutate(label=as.factor(label))\n",
    "chr_testing<-testing(split1)|>\n",
    "                mutate(label=as.factor(label))"
   ]
  },
  {
   "cell_type": "code",
   "execution_count": 7,
   "id": "c2dbdffb-0e90-4d81-97b2-6900d707ea81",
   "metadata": {},
   "outputs": [],
   "source": [
    "#我跑不了你们跑吧<-read_csv(\"data/chr_training.csv\")"
   ]
  },
  {
   "cell_type": "code",
   "execution_count": 21,
   "id": "2f74d9fb-f440-40b1-8fb9-03afc674c628",
   "metadata": {},
   "outputs": [],
   "source": [
    "#Step1 Models\n",
    "best_k<-3\n",
    "chr_model1<-nearest_neighbor(weight_func=\"rectangular\",neighbors=best_k)|>\n",
    "            set_engine(\"kknn\")|>\n",
    "            set_mode(\"classification\")\n",
    "\n",
    "#Step2 Recipe (scaling and centering are not necessary for this data frame)\n",
    "chr_recipe1<-recipe(label~.,data = chr_training)\n",
    "\n",
    "#Step3 Workflow\n",
    "chr_wf1<-workflow()|>\n",
    "        add_recipe(chr_recipe1)|>\n",
    "        add_model(chr_model1)\n"
   ]
  },
  {
   "cell_type": "code",
   "execution_count": 22,
   "id": "467c65fa-9d98-4ea3-a247-7a6d698820c7",
   "metadata": {},
   "outputs": [],
   "source": [
    "#Step4 Fitting\n",
    "chr_fit1<-chr_wf1|>\n",
    "          fit(data=chr_training)"
   ]
  },
  {
   "cell_type": "code",
   "execution_count": 27,
   "id": "d739cee7-de2c-46c0-8bc6-537264de5960",
   "metadata": {},
   "outputs": [
    {
     "data": {
      "text/html": [
       "<table class=\"dataframe\">\n",
       "<caption>A tibble: 1 × 3</caption>\n",
       "<thead>\n",
       "\t<tr><th scope=col>.metric</th><th scope=col>.estimator</th><th scope=col>.estimate</th></tr>\n",
       "\t<tr><th scope=col>&lt;chr&gt;</th><th scope=col>&lt;chr&gt;</th><th scope=col>&lt;dbl&gt;</th></tr>\n",
       "</thead>\n",
       "<tbody>\n",
       "\t<tr><td>accuracy</td><td>multiclass</td><td>0.620438</td></tr>\n",
       "</tbody>\n",
       "</table>\n"
      ],
      "text/latex": [
       "A tibble: 1 × 3\n",
       "\\begin{tabular}{lll}\n",
       " .metric & .estimator & .estimate\\\\\n",
       " <chr> & <chr> & <dbl>\\\\\n",
       "\\hline\n",
       "\t accuracy & multiclass & 0.620438\\\\\n",
       "\\end{tabular}\n"
      ],
      "text/markdown": [
       "\n",
       "A tibble: 1 × 3\n",
       "\n",
       "| .metric &lt;chr&gt; | .estimator &lt;chr&gt; | .estimate &lt;dbl&gt; |\n",
       "|---|---|---|\n",
       "| accuracy | multiclass | 0.620438 |\n",
       "\n"
      ],
      "text/plain": [
       "  .metric  .estimator .estimate\n",
       "1 accuracy multiclass 0.620438 "
      ]
     },
     "metadata": {},
     "output_type": "display_data"
    }
   ],
   "source": [
    "#Step5 Predict\n",
    "pred1<-predict(chr_fit1,chr_testing)|>\n",
    "        bind_cols(chr_testing)|>\n",
    "        metrics(truth = label,estimate = .pred_class)|>\n",
    "        filter(.metric==\"accuracy\")\n",
    "pred1"
   ]
  },
  {
   "cell_type": "code",
   "execution_count": 29,
   "id": "d0f0d56e-39ae-4fc5-af33-06fb83820754",
   "metadata": {},
   "outputs": [
    {
     "name": "stderr",
     "output_type": "stream",
     "text": [
      "Warning message:\n",
      "“glm.fit: algorithm did not converge”\n"
     ]
    }
   ],
   "source": [
    "#Step6 buiding logical regression model\n",
    "chr_lrm1<-glm(label ~., data = chr_training, family = binomial)"
   ]
  },
  {
   "cell_type": "code",
   "execution_count": 35,
   "id": "fa34f956-52da-4872-a301-95f21962d182",
   "metadata": {},
   "outputs": [
    {
     "name": "stderr",
     "output_type": "stream",
     "text": [
      "Warning message in predict.lm(object, newdata, se.fit, scale = 1, type = if (type == :\n",
      "“prediction from a rank-deficient fit may be misleading”\n"
     ]
    },
    {
     "data": {
      "text/html": [
       "<table class=\"dataframe\">\n",
       "<caption>A data.frame: 137 × 786</caption>\n",
       "<thead>\n",
       "\t<tr><th></th><th scope=col>probability</th><th scope=col>label</th><th scope=col>1</th><th scope=col>2</th><th scope=col>3</th><th scope=col>4</th><th scope=col>5</th><th scope=col>6</th><th scope=col>7</th><th scope=col>8</th><th scope=col>⋯</th><th scope=col>775</th><th scope=col>776</th><th scope=col>777</th><th scope=col>778</th><th scope=col>779</th><th scope=col>780</th><th scope=col>781</th><th scope=col>782</th><th scope=col>783</th><th scope=col>784</th></tr>\n",
       "\t<tr><th></th><th scope=col>&lt;dbl&gt;</th><th scope=col>&lt;fct&gt;</th><th scope=col>&lt;dbl&gt;</th><th scope=col>&lt;dbl&gt;</th><th scope=col>&lt;dbl&gt;</th><th scope=col>&lt;dbl&gt;</th><th scope=col>&lt;dbl&gt;</th><th scope=col>&lt;dbl&gt;</th><th scope=col>&lt;dbl&gt;</th><th scope=col>&lt;dbl&gt;</th><th scope=col>⋯</th><th scope=col>&lt;dbl&gt;</th><th scope=col>&lt;dbl&gt;</th><th scope=col>&lt;dbl&gt;</th><th scope=col>&lt;dbl&gt;</th><th scope=col>&lt;dbl&gt;</th><th scope=col>&lt;dbl&gt;</th><th scope=col>&lt;dbl&gt;</th><th scope=col>&lt;dbl&gt;</th><th scope=col>&lt;dbl&gt;</th><th scope=col>&lt;dbl&gt;</th></tr>\n",
       "</thead>\n",
       "<tbody>\n",
       "\t<tr><th scope=row>1</th><td>2.220446e-16</td><td>a</td><td>0</td><td>0</td><td>0</td><td>0</td><td>0</td><td>0</td><td>0</td><td>0</td><td>⋯</td><td>0</td><td>0</td><td>0</td><td>0</td><td>0</td><td>0</td><td>0</td><td>0</td><td>0</td><td>0</td></tr>\n",
       "\t<tr><th scope=row>2</th><td>7.712169e-03</td><td>a</td><td>0</td><td>0</td><td>0</td><td>0</td><td>0</td><td>0</td><td>0</td><td>0</td><td>⋯</td><td>0</td><td>0</td><td>0</td><td>0</td><td>0</td><td>0</td><td>0</td><td>0</td><td>0</td><td>0</td></tr>\n",
       "\t<tr><th scope=row>3</th><td>1.000000e+00</td><td>a</td><td>0</td><td>0</td><td>0</td><td>0</td><td>0</td><td>0</td><td>0</td><td>0</td><td>⋯</td><td>0</td><td>0</td><td>0</td><td>0</td><td>0</td><td>0</td><td>0</td><td>0</td><td>0</td><td>0</td></tr>\n",
       "\t<tr><th scope=row>4</th><td>1.000000e+00</td><td>a</td><td>0</td><td>0</td><td>0</td><td>0</td><td>0</td><td>0</td><td>0</td><td>0</td><td>⋯</td><td>0</td><td>0</td><td>0</td><td>0</td><td>0</td><td>0</td><td>0</td><td>0</td><td>0</td><td>0</td></tr>\n",
       "\t<tr><th scope=row>5</th><td>1.000000e+00</td><td>b</td><td>0</td><td>0</td><td>0</td><td>0</td><td>0</td><td>0</td><td>0</td><td>0</td><td>⋯</td><td>0</td><td>0</td><td>0</td><td>0</td><td>0</td><td>0</td><td>0</td><td>0</td><td>0</td><td>0</td></tr>\n",
       "\t<tr><th scope=row>6</th><td>9.999992e-01</td><td>b</td><td>0</td><td>0</td><td>0</td><td>0</td><td>0</td><td>0</td><td>0</td><td>0</td><td>⋯</td><td>0</td><td>0</td><td>0</td><td>0</td><td>0</td><td>0</td><td>0</td><td>0</td><td>0</td><td>0</td></tr>\n",
       "\t<tr><th scope=row>7</th><td>1.000000e+00</td><td>b</td><td>0</td><td>0</td><td>0</td><td>0</td><td>0</td><td>0</td><td>0</td><td>0</td><td>⋯</td><td>0</td><td>0</td><td>0</td><td>0</td><td>0</td><td>0</td><td>0</td><td>0</td><td>0</td><td>0</td></tr>\n",
       "\t<tr><th scope=row>8</th><td>1.000000e+00</td><td>b</td><td>0</td><td>0</td><td>0</td><td>0</td><td>0</td><td>0</td><td>0</td><td>0</td><td>⋯</td><td>0</td><td>0</td><td>0</td><td>0</td><td>0</td><td>0</td><td>0</td><td>0</td><td>0</td><td>0</td></tr>\n",
       "\t<tr><th scope=row>9</th><td>1.000000e+00</td><td>b</td><td>0</td><td>0</td><td>0</td><td>0</td><td>0</td><td>0</td><td>0</td><td>0</td><td>⋯</td><td>0</td><td>0</td><td>0</td><td>0</td><td>0</td><td>0</td><td>0</td><td>0</td><td>0</td><td>0</td></tr>\n",
       "\t<tr><th scope=row>10</th><td>4.727352e-01</td><td>b</td><td>0</td><td>0</td><td>0</td><td>0</td><td>0</td><td>0</td><td>0</td><td>0</td><td>⋯</td><td>0</td><td>0</td><td>0</td><td>0</td><td>0</td><td>0</td><td>0</td><td>0</td><td>0</td><td>0</td></tr>\n",
       "\t<tr><th scope=row>11</th><td>1.000000e+00</td><td>b</td><td>0</td><td>0</td><td>0</td><td>0</td><td>0</td><td>0</td><td>0</td><td>0</td><td>⋯</td><td>0</td><td>0</td><td>0</td><td>0</td><td>0</td><td>0</td><td>0</td><td>0</td><td>0</td><td>0</td></tr>\n",
       "\t<tr><th scope=row>12</th><td>1.000000e+00</td><td>b</td><td>0</td><td>0</td><td>0</td><td>0</td><td>0</td><td>0</td><td>0</td><td>0</td><td>⋯</td><td>0</td><td>0</td><td>0</td><td>0</td><td>0</td><td>0</td><td>0</td><td>0</td><td>0</td><td>0</td></tr>\n",
       "\t<tr><th scope=row>13</th><td>3.338664e-10</td><td>b</td><td>0</td><td>0</td><td>0</td><td>0</td><td>0</td><td>0</td><td>0</td><td>0</td><td>⋯</td><td>0</td><td>0</td><td>0</td><td>0</td><td>0</td><td>0</td><td>0</td><td>0</td><td>0</td><td>0</td></tr>\n",
       "\t<tr><th scope=row>14</th><td>1.000000e+00</td><td>b</td><td>0</td><td>0</td><td>0</td><td>0</td><td>0</td><td>0</td><td>0</td><td>0</td><td>⋯</td><td>0</td><td>0</td><td>0</td><td>0</td><td>0</td><td>0</td><td>0</td><td>0</td><td>0</td><td>0</td></tr>\n",
       "\t<tr><th scope=row>15</th><td>2.220446e-16</td><td>b</td><td>0</td><td>0</td><td>0</td><td>0</td><td>0</td><td>0</td><td>0</td><td>0</td><td>⋯</td><td>0</td><td>0</td><td>0</td><td>0</td><td>0</td><td>0</td><td>0</td><td>0</td><td>0</td><td>0</td></tr>\n",
       "\t<tr><th scope=row>16</th><td>9.981816e-01</td><td>c</td><td>0</td><td>0</td><td>0</td><td>0</td><td>0</td><td>0</td><td>0</td><td>0</td><td>⋯</td><td>0</td><td>0</td><td>0</td><td>0</td><td>0</td><td>0</td><td>0</td><td>0</td><td>0</td><td>0</td></tr>\n",
       "\t<tr><th scope=row>17</th><td>2.220446e-16</td><td>c</td><td>0</td><td>0</td><td>0</td><td>0</td><td>0</td><td>0</td><td>0</td><td>0</td><td>⋯</td><td>0</td><td>0</td><td>0</td><td>0</td><td>0</td><td>0</td><td>0</td><td>0</td><td>0</td><td>0</td></tr>\n",
       "\t<tr><th scope=row>18</th><td>2.220446e-16</td><td>c</td><td>0</td><td>0</td><td>0</td><td>0</td><td>0</td><td>0</td><td>0</td><td>0</td><td>⋯</td><td>0</td><td>0</td><td>0</td><td>0</td><td>0</td><td>0</td><td>0</td><td>0</td><td>0</td><td>0</td></tr>\n",
       "\t<tr><th scope=row>19</th><td>1.000000e+00</td><td>d</td><td>0</td><td>0</td><td>0</td><td>0</td><td>0</td><td>0</td><td>0</td><td>0</td><td>⋯</td><td>0</td><td>0</td><td>0</td><td>0</td><td>0</td><td>0</td><td>0</td><td>0</td><td>0</td><td>0</td></tr>\n",
       "\t<tr><th scope=row>20</th><td>1.000000e+00</td><td>d</td><td>0</td><td>0</td><td>0</td><td>0</td><td>0</td><td>0</td><td>0</td><td>0</td><td>⋯</td><td>0</td><td>0</td><td>0</td><td>0</td><td>0</td><td>0</td><td>0</td><td>0</td><td>0</td><td>0</td></tr>\n",
       "\t<tr><th scope=row>21</th><td>9.999867e-01</td><td>d</td><td>0</td><td>0</td><td>0</td><td>0</td><td>0</td><td>0</td><td>0</td><td>0</td><td>⋯</td><td>0</td><td>0</td><td>0</td><td>0</td><td>0</td><td>0</td><td>0</td><td>0</td><td>0</td><td>0</td></tr>\n",
       "\t<tr><th scope=row>22</th><td>1.000000e+00</td><td>e</td><td>0</td><td>0</td><td>0</td><td>0</td><td>0</td><td>0</td><td>0</td><td>0</td><td>⋯</td><td>0</td><td>0</td><td>0</td><td>0</td><td>0</td><td>0</td><td>0</td><td>0</td><td>0</td><td>0</td></tr>\n",
       "\t<tr><th scope=row>23</th><td>2.220446e-16</td><td>e</td><td>0</td><td>0</td><td>0</td><td>0</td><td>0</td><td>0</td><td>0</td><td>0</td><td>⋯</td><td>0</td><td>0</td><td>0</td><td>0</td><td>0</td><td>0</td><td>0</td><td>0</td><td>0</td><td>0</td></tr>\n",
       "\t<tr><th scope=row>24</th><td>2.220446e-16</td><td>e</td><td>0</td><td>0</td><td>0</td><td>0</td><td>0</td><td>0</td><td>0</td><td>0</td><td>⋯</td><td>0</td><td>0</td><td>0</td><td>0</td><td>0</td><td>0</td><td>0</td><td>0</td><td>0</td><td>0</td></tr>\n",
       "\t<tr><th scope=row>25</th><td>1.000000e+00</td><td>e</td><td>0</td><td>0</td><td>0</td><td>0</td><td>0</td><td>0</td><td>0</td><td>0</td><td>⋯</td><td>0</td><td>0</td><td>0</td><td>0</td><td>0</td><td>0</td><td>0</td><td>0</td><td>0</td><td>0</td></tr>\n",
       "\t<tr><th scope=row>26</th><td>1.000000e+00</td><td>e</td><td>0</td><td>0</td><td>0</td><td>0</td><td>0</td><td>0</td><td>0</td><td>0</td><td>⋯</td><td>0</td><td>0</td><td>0</td><td>0</td><td>0</td><td>0</td><td>0</td><td>0</td><td>0</td><td>0</td></tr>\n",
       "\t<tr><th scope=row>27</th><td>9.999998e-01</td><td>e</td><td>0</td><td>0</td><td>0</td><td>0</td><td>0</td><td>0</td><td>0</td><td>0</td><td>⋯</td><td>0</td><td>0</td><td>0</td><td>0</td><td>0</td><td>0</td><td>0</td><td>0</td><td>0</td><td>0</td></tr>\n",
       "\t<tr><th scope=row>28</th><td>2.220446e-16</td><td>f</td><td>0</td><td>0</td><td>0</td><td>0</td><td>0</td><td>0</td><td>0</td><td>0</td><td>⋯</td><td>0</td><td>0</td><td>0</td><td>0</td><td>0</td><td>0</td><td>0</td><td>0</td><td>0</td><td>0</td></tr>\n",
       "\t<tr><th scope=row>29</th><td>2.220446e-16</td><td>f</td><td>0</td><td>0</td><td>0</td><td>0</td><td>0</td><td>0</td><td>0</td><td>0</td><td>⋯</td><td>0</td><td>0</td><td>0</td><td>0</td><td>0</td><td>0</td><td>0</td><td>0</td><td>0</td><td>0</td></tr>\n",
       "\t<tr><th scope=row>30</th><td>1.000000e+00</td><td>f</td><td>0</td><td>0</td><td>0</td><td>0</td><td>0</td><td>0</td><td>0</td><td>0</td><td>⋯</td><td>0</td><td>0</td><td>0</td><td>0</td><td>0</td><td>0</td><td>0</td><td>0</td><td>0</td><td>0</td></tr>\n",
       "\t<tr><th scope=row>⋮</th><td>⋮</td><td>⋮</td><td>⋮</td><td>⋮</td><td>⋮</td><td>⋮</td><td>⋮</td><td>⋮</td><td>⋮</td><td>⋮</td><td>⋱</td><td>⋮</td><td>⋮</td><td>⋮</td><td>⋮</td><td>⋮</td><td>⋮</td><td>⋮</td><td>⋮</td><td>⋮</td><td>⋮</td></tr>\n",
       "\t<tr><th scope=row>108</th><td>2.220446e-16</td><td>t</td><td>0</td><td>0</td><td>0</td><td>0</td><td>0</td><td>0</td><td>0</td><td>0</td><td>⋯</td><td>  0</td><td>0</td><td>0</td><td>0</td><td>0</td><td>0</td><td>0</td><td>0</td><td>0</td><td>0</td></tr>\n",
       "\t<tr><th scope=row>109</th><td>1.000000e+00</td><td>t</td><td>0</td><td>0</td><td>0</td><td>0</td><td>0</td><td>0</td><td>0</td><td>0</td><td>⋯</td><td>  0</td><td>0</td><td>0</td><td>0</td><td>0</td><td>0</td><td>0</td><td>0</td><td>0</td><td>0</td></tr>\n",
       "\t<tr><th scope=row>110</th><td>1.000000e+00</td><td>t</td><td>0</td><td>0</td><td>0</td><td>0</td><td>0</td><td>0</td><td>0</td><td>0</td><td>⋯</td><td>  0</td><td>0</td><td>0</td><td>0</td><td>0</td><td>0</td><td>0</td><td>0</td><td>0</td><td>0</td></tr>\n",
       "\t<tr><th scope=row>111</th><td>1.000000e+00</td><td>u</td><td>0</td><td>0</td><td>0</td><td>0</td><td>0</td><td>0</td><td>0</td><td>0</td><td>⋯</td><td>  0</td><td>0</td><td>0</td><td>0</td><td>0</td><td>0</td><td>0</td><td>0</td><td>0</td><td>0</td></tr>\n",
       "\t<tr><th scope=row>112</th><td>2.220446e-16</td><td>u</td><td>0</td><td>0</td><td>0</td><td>0</td><td>0</td><td>0</td><td>0</td><td>0</td><td>⋯</td><td>  0</td><td>0</td><td>0</td><td>0</td><td>0</td><td>0</td><td>0</td><td>0</td><td>0</td><td>0</td></tr>\n",
       "\t<tr><th scope=row>113</th><td>2.220446e-16</td><td>u</td><td>0</td><td>0</td><td>0</td><td>0</td><td>0</td><td>0</td><td>0</td><td>0</td><td>⋯</td><td>  0</td><td>0</td><td>0</td><td>0</td><td>0</td><td>0</td><td>0</td><td>0</td><td>0</td><td>0</td></tr>\n",
       "\t<tr><th scope=row>114</th><td>1.000000e+00</td><td>u</td><td>0</td><td>0</td><td>0</td><td>0</td><td>0</td><td>0</td><td>0</td><td>0</td><td>⋯</td><td>  0</td><td>0</td><td>0</td><td>0</td><td>0</td><td>0</td><td>0</td><td>0</td><td>0</td><td>0</td></tr>\n",
       "\t<tr><th scope=row>115</th><td>1.000000e+00</td><td>v</td><td>0</td><td>0</td><td>0</td><td>0</td><td>0</td><td>0</td><td>0</td><td>0</td><td>⋯</td><td>  0</td><td>0</td><td>0</td><td>0</td><td>0</td><td>0</td><td>0</td><td>0</td><td>0</td><td>0</td></tr>\n",
       "\t<tr><th scope=row>116</th><td>2.220446e-16</td><td>v</td><td>0</td><td>0</td><td>0</td><td>0</td><td>0</td><td>0</td><td>0</td><td>0</td><td>⋯</td><td>  0</td><td>0</td><td>0</td><td>0</td><td>0</td><td>0</td><td>0</td><td>0</td><td>0</td><td>0</td></tr>\n",
       "\t<tr><th scope=row>117</th><td>2.220446e-16</td><td>v</td><td>0</td><td>0</td><td>0</td><td>0</td><td>0</td><td>0</td><td>0</td><td>0</td><td>⋯</td><td>  0</td><td>0</td><td>0</td><td>0</td><td>0</td><td>0</td><td>0</td><td>0</td><td>0</td><td>0</td></tr>\n",
       "\t<tr><th scope=row>118</th><td>1.000000e+00</td><td>v</td><td>0</td><td>0</td><td>0</td><td>0</td><td>0</td><td>0</td><td>0</td><td>0</td><td>⋯</td><td>  0</td><td>0</td><td>0</td><td>0</td><td>0</td><td>0</td><td>0</td><td>0</td><td>0</td><td>0</td></tr>\n",
       "\t<tr><th scope=row>119</th><td>1.000000e+00</td><td>v</td><td>0</td><td>0</td><td>0</td><td>0</td><td>0</td><td>0</td><td>0</td><td>0</td><td>⋯</td><td>  0</td><td>0</td><td>0</td><td>0</td><td>0</td><td>0</td><td>0</td><td>0</td><td>0</td><td>0</td></tr>\n",
       "\t<tr><th scope=row>120</th><td>1.000000e+00</td><td>v</td><td>0</td><td>0</td><td>0</td><td>0</td><td>0</td><td>0</td><td>0</td><td>0</td><td>⋯</td><td>  0</td><td>0</td><td>0</td><td>0</td><td>0</td><td>0</td><td>0</td><td>0</td><td>0</td><td>0</td></tr>\n",
       "\t<tr><th scope=row>121</th><td>2.220446e-16</td><td>v</td><td>0</td><td>0</td><td>0</td><td>0</td><td>0</td><td>0</td><td>0</td><td>0</td><td>⋯</td><td>  0</td><td>0</td><td>0</td><td>0</td><td>0</td><td>0</td><td>0</td><td>0</td><td>0</td><td>0</td></tr>\n",
       "\t<tr><th scope=row>122</th><td>1.000000e+00</td><td>v</td><td>0</td><td>0</td><td>0</td><td>0</td><td>0</td><td>0</td><td>0</td><td>0</td><td>⋯</td><td>  0</td><td>0</td><td>0</td><td>0</td><td>0</td><td>0</td><td>0</td><td>0</td><td>0</td><td>0</td></tr>\n",
       "\t<tr><th scope=row>123</th><td>2.220446e-16</td><td>w</td><td>0</td><td>0</td><td>0</td><td>0</td><td>0</td><td>0</td><td>0</td><td>0</td><td>⋯</td><td>  0</td><td>0</td><td>0</td><td>0</td><td>0</td><td>0</td><td>0</td><td>0</td><td>0</td><td>0</td></tr>\n",
       "\t<tr><th scope=row>124</th><td>1.000000e+00</td><td>w</td><td>0</td><td>0</td><td>0</td><td>0</td><td>0</td><td>0</td><td>0</td><td>0</td><td>⋯</td><td>  0</td><td>0</td><td>0</td><td>0</td><td>0</td><td>0</td><td>0</td><td>0</td><td>0</td><td>0</td></tr>\n",
       "\t<tr><th scope=row>125</th><td>1.000000e+00</td><td>x</td><td>0</td><td>0</td><td>0</td><td>0</td><td>0</td><td>0</td><td>0</td><td>0</td><td>⋯</td><td>  0</td><td>0</td><td>0</td><td>0</td><td>0</td><td>0</td><td>0</td><td>0</td><td>0</td><td>0</td></tr>\n",
       "\t<tr><th scope=row>126</th><td>2.220446e-16</td><td>x</td><td>0</td><td>0</td><td>0</td><td>0</td><td>0</td><td>0</td><td>0</td><td>0</td><td>⋯</td><td>  0</td><td>0</td><td>0</td><td>0</td><td>0</td><td>0</td><td>0</td><td>0</td><td>0</td><td>0</td></tr>\n",
       "\t<tr><th scope=row>127</th><td>2.220446e-16</td><td>x</td><td>0</td><td>0</td><td>0</td><td>0</td><td>0</td><td>0</td><td>0</td><td>0</td><td>⋯</td><td>  0</td><td>0</td><td>0</td><td>0</td><td>0</td><td>0</td><td>0</td><td>0</td><td>0</td><td>0</td></tr>\n",
       "\t<tr><th scope=row>128</th><td>1.000000e+00</td><td>x</td><td>0</td><td>0</td><td>0</td><td>0</td><td>0</td><td>0</td><td>0</td><td>0</td><td>⋯</td><td>  0</td><td>0</td><td>0</td><td>0</td><td>0</td><td>0</td><td>0</td><td>0</td><td>0</td><td>0</td></tr>\n",
       "\t<tr><th scope=row>129</th><td>1.000000e+00</td><td>x</td><td>0</td><td>0</td><td>0</td><td>0</td><td>0</td><td>0</td><td>0</td><td>0</td><td>⋯</td><td>  0</td><td>0</td><td>0</td><td>0</td><td>0</td><td>0</td><td>0</td><td>0</td><td>0</td><td>0</td></tr>\n",
       "\t<tr><th scope=row>130</th><td>1.000000e+00</td><td>y</td><td>0</td><td>0</td><td>0</td><td>0</td><td>0</td><td>0</td><td>0</td><td>0</td><td>⋯</td><td>128</td><td>3</td><td>0</td><td>0</td><td>0</td><td>0</td><td>0</td><td>0</td><td>0</td><td>0</td></tr>\n",
       "\t<tr><th scope=row>131</th><td>1.000000e+00</td><td>y</td><td>0</td><td>0</td><td>0</td><td>0</td><td>0</td><td>0</td><td>0</td><td>0</td><td>⋯</td><td>  0</td><td>0</td><td>0</td><td>0</td><td>0</td><td>0</td><td>0</td><td>0</td><td>0</td><td>0</td></tr>\n",
       "\t<tr><th scope=row>132</th><td>1.000000e+00</td><td>y</td><td>0</td><td>0</td><td>0</td><td>0</td><td>0</td><td>0</td><td>0</td><td>0</td><td>⋯</td><td>  0</td><td>0</td><td>0</td><td>0</td><td>0</td><td>0</td><td>0</td><td>0</td><td>0</td><td>0</td></tr>\n",
       "\t<tr><th scope=row>133</th><td>2.220446e-16</td><td>y</td><td>0</td><td>0</td><td>0</td><td>0</td><td>0</td><td>0</td><td>0</td><td>0</td><td>⋯</td><td>  0</td><td>0</td><td>0</td><td>0</td><td>0</td><td>0</td><td>0</td><td>0</td><td>0</td><td>0</td></tr>\n",
       "\t<tr><th scope=row>134</th><td>1.000000e+00</td><td>y</td><td>0</td><td>0</td><td>0</td><td>0</td><td>0</td><td>0</td><td>0</td><td>0</td><td>⋯</td><td>  0</td><td>0</td><td>0</td><td>0</td><td>0</td><td>0</td><td>0</td><td>0</td><td>0</td><td>0</td></tr>\n",
       "\t<tr><th scope=row>135</th><td>9.994577e-01</td><td>z</td><td>0</td><td>0</td><td>0</td><td>0</td><td>0</td><td>0</td><td>0</td><td>0</td><td>⋯</td><td>  0</td><td>0</td><td>0</td><td>0</td><td>0</td><td>0</td><td>0</td><td>0</td><td>0</td><td>0</td></tr>\n",
       "\t<tr><th scope=row>136</th><td>1.000000e+00</td><td>z</td><td>0</td><td>0</td><td>0</td><td>0</td><td>0</td><td>0</td><td>0</td><td>0</td><td>⋯</td><td>  0</td><td>0</td><td>0</td><td>0</td><td>0</td><td>0</td><td>0</td><td>0</td><td>0</td><td>0</td></tr>\n",
       "\t<tr><th scope=row>137</th><td>2.220446e-16</td><td>z</td><td>0</td><td>0</td><td>0</td><td>0</td><td>0</td><td>0</td><td>0</td><td>0</td><td>⋯</td><td>  0</td><td>0</td><td>0</td><td>0</td><td>0</td><td>0</td><td>0</td><td>0</td><td>0</td><td>0</td></tr>\n",
       "</tbody>\n",
       "</table>\n"
      ],
      "text/latex": [
       "A data.frame: 137 × 786\n",
       "\\begin{tabular}{r|lllllllllllllllllllll}\n",
       "  & probability & label & 1 & 2 & 3 & 4 & 5 & 6 & 7 & 8 & ⋯ & 775 & 776 & 777 & 778 & 779 & 780 & 781 & 782 & 783 & 784\\\\\n",
       "  & <dbl> & <fct> & <dbl> & <dbl> & <dbl> & <dbl> & <dbl> & <dbl> & <dbl> & <dbl> & ⋯ & <dbl> & <dbl> & <dbl> & <dbl> & <dbl> & <dbl> & <dbl> & <dbl> & <dbl> & <dbl>\\\\\n",
       "\\hline\n",
       "\t1 & 2.220446e-16 & a & 0 & 0 & 0 & 0 & 0 & 0 & 0 & 0 & ⋯ & 0 & 0 & 0 & 0 & 0 & 0 & 0 & 0 & 0 & 0\\\\\n",
       "\t2 & 7.712169e-03 & a & 0 & 0 & 0 & 0 & 0 & 0 & 0 & 0 & ⋯ & 0 & 0 & 0 & 0 & 0 & 0 & 0 & 0 & 0 & 0\\\\\n",
       "\t3 & 1.000000e+00 & a & 0 & 0 & 0 & 0 & 0 & 0 & 0 & 0 & ⋯ & 0 & 0 & 0 & 0 & 0 & 0 & 0 & 0 & 0 & 0\\\\\n",
       "\t4 & 1.000000e+00 & a & 0 & 0 & 0 & 0 & 0 & 0 & 0 & 0 & ⋯ & 0 & 0 & 0 & 0 & 0 & 0 & 0 & 0 & 0 & 0\\\\\n",
       "\t5 & 1.000000e+00 & b & 0 & 0 & 0 & 0 & 0 & 0 & 0 & 0 & ⋯ & 0 & 0 & 0 & 0 & 0 & 0 & 0 & 0 & 0 & 0\\\\\n",
       "\t6 & 9.999992e-01 & b & 0 & 0 & 0 & 0 & 0 & 0 & 0 & 0 & ⋯ & 0 & 0 & 0 & 0 & 0 & 0 & 0 & 0 & 0 & 0\\\\\n",
       "\t7 & 1.000000e+00 & b & 0 & 0 & 0 & 0 & 0 & 0 & 0 & 0 & ⋯ & 0 & 0 & 0 & 0 & 0 & 0 & 0 & 0 & 0 & 0\\\\\n",
       "\t8 & 1.000000e+00 & b & 0 & 0 & 0 & 0 & 0 & 0 & 0 & 0 & ⋯ & 0 & 0 & 0 & 0 & 0 & 0 & 0 & 0 & 0 & 0\\\\\n",
       "\t9 & 1.000000e+00 & b & 0 & 0 & 0 & 0 & 0 & 0 & 0 & 0 & ⋯ & 0 & 0 & 0 & 0 & 0 & 0 & 0 & 0 & 0 & 0\\\\\n",
       "\t10 & 4.727352e-01 & b & 0 & 0 & 0 & 0 & 0 & 0 & 0 & 0 & ⋯ & 0 & 0 & 0 & 0 & 0 & 0 & 0 & 0 & 0 & 0\\\\\n",
       "\t11 & 1.000000e+00 & b & 0 & 0 & 0 & 0 & 0 & 0 & 0 & 0 & ⋯ & 0 & 0 & 0 & 0 & 0 & 0 & 0 & 0 & 0 & 0\\\\\n",
       "\t12 & 1.000000e+00 & b & 0 & 0 & 0 & 0 & 0 & 0 & 0 & 0 & ⋯ & 0 & 0 & 0 & 0 & 0 & 0 & 0 & 0 & 0 & 0\\\\\n",
       "\t13 & 3.338664e-10 & b & 0 & 0 & 0 & 0 & 0 & 0 & 0 & 0 & ⋯ & 0 & 0 & 0 & 0 & 0 & 0 & 0 & 0 & 0 & 0\\\\\n",
       "\t14 & 1.000000e+00 & b & 0 & 0 & 0 & 0 & 0 & 0 & 0 & 0 & ⋯ & 0 & 0 & 0 & 0 & 0 & 0 & 0 & 0 & 0 & 0\\\\\n",
       "\t15 & 2.220446e-16 & b & 0 & 0 & 0 & 0 & 0 & 0 & 0 & 0 & ⋯ & 0 & 0 & 0 & 0 & 0 & 0 & 0 & 0 & 0 & 0\\\\\n",
       "\t16 & 9.981816e-01 & c & 0 & 0 & 0 & 0 & 0 & 0 & 0 & 0 & ⋯ & 0 & 0 & 0 & 0 & 0 & 0 & 0 & 0 & 0 & 0\\\\\n",
       "\t17 & 2.220446e-16 & c & 0 & 0 & 0 & 0 & 0 & 0 & 0 & 0 & ⋯ & 0 & 0 & 0 & 0 & 0 & 0 & 0 & 0 & 0 & 0\\\\\n",
       "\t18 & 2.220446e-16 & c & 0 & 0 & 0 & 0 & 0 & 0 & 0 & 0 & ⋯ & 0 & 0 & 0 & 0 & 0 & 0 & 0 & 0 & 0 & 0\\\\\n",
       "\t19 & 1.000000e+00 & d & 0 & 0 & 0 & 0 & 0 & 0 & 0 & 0 & ⋯ & 0 & 0 & 0 & 0 & 0 & 0 & 0 & 0 & 0 & 0\\\\\n",
       "\t20 & 1.000000e+00 & d & 0 & 0 & 0 & 0 & 0 & 0 & 0 & 0 & ⋯ & 0 & 0 & 0 & 0 & 0 & 0 & 0 & 0 & 0 & 0\\\\\n",
       "\t21 & 9.999867e-01 & d & 0 & 0 & 0 & 0 & 0 & 0 & 0 & 0 & ⋯ & 0 & 0 & 0 & 0 & 0 & 0 & 0 & 0 & 0 & 0\\\\\n",
       "\t22 & 1.000000e+00 & e & 0 & 0 & 0 & 0 & 0 & 0 & 0 & 0 & ⋯ & 0 & 0 & 0 & 0 & 0 & 0 & 0 & 0 & 0 & 0\\\\\n",
       "\t23 & 2.220446e-16 & e & 0 & 0 & 0 & 0 & 0 & 0 & 0 & 0 & ⋯ & 0 & 0 & 0 & 0 & 0 & 0 & 0 & 0 & 0 & 0\\\\\n",
       "\t24 & 2.220446e-16 & e & 0 & 0 & 0 & 0 & 0 & 0 & 0 & 0 & ⋯ & 0 & 0 & 0 & 0 & 0 & 0 & 0 & 0 & 0 & 0\\\\\n",
       "\t25 & 1.000000e+00 & e & 0 & 0 & 0 & 0 & 0 & 0 & 0 & 0 & ⋯ & 0 & 0 & 0 & 0 & 0 & 0 & 0 & 0 & 0 & 0\\\\\n",
       "\t26 & 1.000000e+00 & e & 0 & 0 & 0 & 0 & 0 & 0 & 0 & 0 & ⋯ & 0 & 0 & 0 & 0 & 0 & 0 & 0 & 0 & 0 & 0\\\\\n",
       "\t27 & 9.999998e-01 & e & 0 & 0 & 0 & 0 & 0 & 0 & 0 & 0 & ⋯ & 0 & 0 & 0 & 0 & 0 & 0 & 0 & 0 & 0 & 0\\\\\n",
       "\t28 & 2.220446e-16 & f & 0 & 0 & 0 & 0 & 0 & 0 & 0 & 0 & ⋯ & 0 & 0 & 0 & 0 & 0 & 0 & 0 & 0 & 0 & 0\\\\\n",
       "\t29 & 2.220446e-16 & f & 0 & 0 & 0 & 0 & 0 & 0 & 0 & 0 & ⋯ & 0 & 0 & 0 & 0 & 0 & 0 & 0 & 0 & 0 & 0\\\\\n",
       "\t30 & 1.000000e+00 & f & 0 & 0 & 0 & 0 & 0 & 0 & 0 & 0 & ⋯ & 0 & 0 & 0 & 0 & 0 & 0 & 0 & 0 & 0 & 0\\\\\n",
       "\t⋮ & ⋮ & ⋮ & ⋮ & ⋮ & ⋮ & ⋮ & ⋮ & ⋮ & ⋮ & ⋮ & ⋱ & ⋮ & ⋮ & ⋮ & ⋮ & ⋮ & ⋮ & ⋮ & ⋮ & ⋮ & ⋮\\\\\n",
       "\t108 & 2.220446e-16 & t & 0 & 0 & 0 & 0 & 0 & 0 & 0 & 0 & ⋯ &   0 & 0 & 0 & 0 & 0 & 0 & 0 & 0 & 0 & 0\\\\\n",
       "\t109 & 1.000000e+00 & t & 0 & 0 & 0 & 0 & 0 & 0 & 0 & 0 & ⋯ &   0 & 0 & 0 & 0 & 0 & 0 & 0 & 0 & 0 & 0\\\\\n",
       "\t110 & 1.000000e+00 & t & 0 & 0 & 0 & 0 & 0 & 0 & 0 & 0 & ⋯ &   0 & 0 & 0 & 0 & 0 & 0 & 0 & 0 & 0 & 0\\\\\n",
       "\t111 & 1.000000e+00 & u & 0 & 0 & 0 & 0 & 0 & 0 & 0 & 0 & ⋯ &   0 & 0 & 0 & 0 & 0 & 0 & 0 & 0 & 0 & 0\\\\\n",
       "\t112 & 2.220446e-16 & u & 0 & 0 & 0 & 0 & 0 & 0 & 0 & 0 & ⋯ &   0 & 0 & 0 & 0 & 0 & 0 & 0 & 0 & 0 & 0\\\\\n",
       "\t113 & 2.220446e-16 & u & 0 & 0 & 0 & 0 & 0 & 0 & 0 & 0 & ⋯ &   0 & 0 & 0 & 0 & 0 & 0 & 0 & 0 & 0 & 0\\\\\n",
       "\t114 & 1.000000e+00 & u & 0 & 0 & 0 & 0 & 0 & 0 & 0 & 0 & ⋯ &   0 & 0 & 0 & 0 & 0 & 0 & 0 & 0 & 0 & 0\\\\\n",
       "\t115 & 1.000000e+00 & v & 0 & 0 & 0 & 0 & 0 & 0 & 0 & 0 & ⋯ &   0 & 0 & 0 & 0 & 0 & 0 & 0 & 0 & 0 & 0\\\\\n",
       "\t116 & 2.220446e-16 & v & 0 & 0 & 0 & 0 & 0 & 0 & 0 & 0 & ⋯ &   0 & 0 & 0 & 0 & 0 & 0 & 0 & 0 & 0 & 0\\\\\n",
       "\t117 & 2.220446e-16 & v & 0 & 0 & 0 & 0 & 0 & 0 & 0 & 0 & ⋯ &   0 & 0 & 0 & 0 & 0 & 0 & 0 & 0 & 0 & 0\\\\\n",
       "\t118 & 1.000000e+00 & v & 0 & 0 & 0 & 0 & 0 & 0 & 0 & 0 & ⋯ &   0 & 0 & 0 & 0 & 0 & 0 & 0 & 0 & 0 & 0\\\\\n",
       "\t119 & 1.000000e+00 & v & 0 & 0 & 0 & 0 & 0 & 0 & 0 & 0 & ⋯ &   0 & 0 & 0 & 0 & 0 & 0 & 0 & 0 & 0 & 0\\\\\n",
       "\t120 & 1.000000e+00 & v & 0 & 0 & 0 & 0 & 0 & 0 & 0 & 0 & ⋯ &   0 & 0 & 0 & 0 & 0 & 0 & 0 & 0 & 0 & 0\\\\\n",
       "\t121 & 2.220446e-16 & v & 0 & 0 & 0 & 0 & 0 & 0 & 0 & 0 & ⋯ &   0 & 0 & 0 & 0 & 0 & 0 & 0 & 0 & 0 & 0\\\\\n",
       "\t122 & 1.000000e+00 & v & 0 & 0 & 0 & 0 & 0 & 0 & 0 & 0 & ⋯ &   0 & 0 & 0 & 0 & 0 & 0 & 0 & 0 & 0 & 0\\\\\n",
       "\t123 & 2.220446e-16 & w & 0 & 0 & 0 & 0 & 0 & 0 & 0 & 0 & ⋯ &   0 & 0 & 0 & 0 & 0 & 0 & 0 & 0 & 0 & 0\\\\\n",
       "\t124 & 1.000000e+00 & w & 0 & 0 & 0 & 0 & 0 & 0 & 0 & 0 & ⋯ &   0 & 0 & 0 & 0 & 0 & 0 & 0 & 0 & 0 & 0\\\\\n",
       "\t125 & 1.000000e+00 & x & 0 & 0 & 0 & 0 & 0 & 0 & 0 & 0 & ⋯ &   0 & 0 & 0 & 0 & 0 & 0 & 0 & 0 & 0 & 0\\\\\n",
       "\t126 & 2.220446e-16 & x & 0 & 0 & 0 & 0 & 0 & 0 & 0 & 0 & ⋯ &   0 & 0 & 0 & 0 & 0 & 0 & 0 & 0 & 0 & 0\\\\\n",
       "\t127 & 2.220446e-16 & x & 0 & 0 & 0 & 0 & 0 & 0 & 0 & 0 & ⋯ &   0 & 0 & 0 & 0 & 0 & 0 & 0 & 0 & 0 & 0\\\\\n",
       "\t128 & 1.000000e+00 & x & 0 & 0 & 0 & 0 & 0 & 0 & 0 & 0 & ⋯ &   0 & 0 & 0 & 0 & 0 & 0 & 0 & 0 & 0 & 0\\\\\n",
       "\t129 & 1.000000e+00 & x & 0 & 0 & 0 & 0 & 0 & 0 & 0 & 0 & ⋯ &   0 & 0 & 0 & 0 & 0 & 0 & 0 & 0 & 0 & 0\\\\\n",
       "\t130 & 1.000000e+00 & y & 0 & 0 & 0 & 0 & 0 & 0 & 0 & 0 & ⋯ & 128 & 3 & 0 & 0 & 0 & 0 & 0 & 0 & 0 & 0\\\\\n",
       "\t131 & 1.000000e+00 & y & 0 & 0 & 0 & 0 & 0 & 0 & 0 & 0 & ⋯ &   0 & 0 & 0 & 0 & 0 & 0 & 0 & 0 & 0 & 0\\\\\n",
       "\t132 & 1.000000e+00 & y & 0 & 0 & 0 & 0 & 0 & 0 & 0 & 0 & ⋯ &   0 & 0 & 0 & 0 & 0 & 0 & 0 & 0 & 0 & 0\\\\\n",
       "\t133 & 2.220446e-16 & y & 0 & 0 & 0 & 0 & 0 & 0 & 0 & 0 & ⋯ &   0 & 0 & 0 & 0 & 0 & 0 & 0 & 0 & 0 & 0\\\\\n",
       "\t134 & 1.000000e+00 & y & 0 & 0 & 0 & 0 & 0 & 0 & 0 & 0 & ⋯ &   0 & 0 & 0 & 0 & 0 & 0 & 0 & 0 & 0 & 0\\\\\n",
       "\t135 & 9.994577e-01 & z & 0 & 0 & 0 & 0 & 0 & 0 & 0 & 0 & ⋯ &   0 & 0 & 0 & 0 & 0 & 0 & 0 & 0 & 0 & 0\\\\\n",
       "\t136 & 1.000000e+00 & z & 0 & 0 & 0 & 0 & 0 & 0 & 0 & 0 & ⋯ &   0 & 0 & 0 & 0 & 0 & 0 & 0 & 0 & 0 & 0\\\\\n",
       "\t137 & 2.220446e-16 & z & 0 & 0 & 0 & 0 & 0 & 0 & 0 & 0 & ⋯ &   0 & 0 & 0 & 0 & 0 & 0 & 0 & 0 & 0 & 0\\\\\n",
       "\\end{tabular}\n"
      ],
      "text/markdown": [
       "\n",
       "A data.frame: 137 × 786\n",
       "\n",
       "| <!--/--> | probability &lt;dbl&gt; | label &lt;fct&gt; | 1 &lt;dbl&gt; | 2 &lt;dbl&gt; | 3 &lt;dbl&gt; | 4 &lt;dbl&gt; | 5 &lt;dbl&gt; | 6 &lt;dbl&gt; | 7 &lt;dbl&gt; | 8 &lt;dbl&gt; | ⋯ ⋯ | 775 &lt;dbl&gt; | 776 &lt;dbl&gt; | 777 &lt;dbl&gt; | 778 &lt;dbl&gt; | 779 &lt;dbl&gt; | 780 &lt;dbl&gt; | 781 &lt;dbl&gt; | 782 &lt;dbl&gt; | 783 &lt;dbl&gt; | 784 &lt;dbl&gt; |\n",
       "|---|---|---|---|---|---|---|---|---|---|---|---|---|---|---|---|---|---|---|---|---|---|\n",
       "| 1 | 2.220446e-16 | a | 0 | 0 | 0 | 0 | 0 | 0 | 0 | 0 | ⋯ | 0 | 0 | 0 | 0 | 0 | 0 | 0 | 0 | 0 | 0 |\n",
       "| 2 | 7.712169e-03 | a | 0 | 0 | 0 | 0 | 0 | 0 | 0 | 0 | ⋯ | 0 | 0 | 0 | 0 | 0 | 0 | 0 | 0 | 0 | 0 |\n",
       "| 3 | 1.000000e+00 | a | 0 | 0 | 0 | 0 | 0 | 0 | 0 | 0 | ⋯ | 0 | 0 | 0 | 0 | 0 | 0 | 0 | 0 | 0 | 0 |\n",
       "| 4 | 1.000000e+00 | a | 0 | 0 | 0 | 0 | 0 | 0 | 0 | 0 | ⋯ | 0 | 0 | 0 | 0 | 0 | 0 | 0 | 0 | 0 | 0 |\n",
       "| 5 | 1.000000e+00 | b | 0 | 0 | 0 | 0 | 0 | 0 | 0 | 0 | ⋯ | 0 | 0 | 0 | 0 | 0 | 0 | 0 | 0 | 0 | 0 |\n",
       "| 6 | 9.999992e-01 | b | 0 | 0 | 0 | 0 | 0 | 0 | 0 | 0 | ⋯ | 0 | 0 | 0 | 0 | 0 | 0 | 0 | 0 | 0 | 0 |\n",
       "| 7 | 1.000000e+00 | b | 0 | 0 | 0 | 0 | 0 | 0 | 0 | 0 | ⋯ | 0 | 0 | 0 | 0 | 0 | 0 | 0 | 0 | 0 | 0 |\n",
       "| 8 | 1.000000e+00 | b | 0 | 0 | 0 | 0 | 0 | 0 | 0 | 0 | ⋯ | 0 | 0 | 0 | 0 | 0 | 0 | 0 | 0 | 0 | 0 |\n",
       "| 9 | 1.000000e+00 | b | 0 | 0 | 0 | 0 | 0 | 0 | 0 | 0 | ⋯ | 0 | 0 | 0 | 0 | 0 | 0 | 0 | 0 | 0 | 0 |\n",
       "| 10 | 4.727352e-01 | b | 0 | 0 | 0 | 0 | 0 | 0 | 0 | 0 | ⋯ | 0 | 0 | 0 | 0 | 0 | 0 | 0 | 0 | 0 | 0 |\n",
       "| 11 | 1.000000e+00 | b | 0 | 0 | 0 | 0 | 0 | 0 | 0 | 0 | ⋯ | 0 | 0 | 0 | 0 | 0 | 0 | 0 | 0 | 0 | 0 |\n",
       "| 12 | 1.000000e+00 | b | 0 | 0 | 0 | 0 | 0 | 0 | 0 | 0 | ⋯ | 0 | 0 | 0 | 0 | 0 | 0 | 0 | 0 | 0 | 0 |\n",
       "| 13 | 3.338664e-10 | b | 0 | 0 | 0 | 0 | 0 | 0 | 0 | 0 | ⋯ | 0 | 0 | 0 | 0 | 0 | 0 | 0 | 0 | 0 | 0 |\n",
       "| 14 | 1.000000e+00 | b | 0 | 0 | 0 | 0 | 0 | 0 | 0 | 0 | ⋯ | 0 | 0 | 0 | 0 | 0 | 0 | 0 | 0 | 0 | 0 |\n",
       "| 15 | 2.220446e-16 | b | 0 | 0 | 0 | 0 | 0 | 0 | 0 | 0 | ⋯ | 0 | 0 | 0 | 0 | 0 | 0 | 0 | 0 | 0 | 0 |\n",
       "| 16 | 9.981816e-01 | c | 0 | 0 | 0 | 0 | 0 | 0 | 0 | 0 | ⋯ | 0 | 0 | 0 | 0 | 0 | 0 | 0 | 0 | 0 | 0 |\n",
       "| 17 | 2.220446e-16 | c | 0 | 0 | 0 | 0 | 0 | 0 | 0 | 0 | ⋯ | 0 | 0 | 0 | 0 | 0 | 0 | 0 | 0 | 0 | 0 |\n",
       "| 18 | 2.220446e-16 | c | 0 | 0 | 0 | 0 | 0 | 0 | 0 | 0 | ⋯ | 0 | 0 | 0 | 0 | 0 | 0 | 0 | 0 | 0 | 0 |\n",
       "| 19 | 1.000000e+00 | d | 0 | 0 | 0 | 0 | 0 | 0 | 0 | 0 | ⋯ | 0 | 0 | 0 | 0 | 0 | 0 | 0 | 0 | 0 | 0 |\n",
       "| 20 | 1.000000e+00 | d | 0 | 0 | 0 | 0 | 0 | 0 | 0 | 0 | ⋯ | 0 | 0 | 0 | 0 | 0 | 0 | 0 | 0 | 0 | 0 |\n",
       "| 21 | 9.999867e-01 | d | 0 | 0 | 0 | 0 | 0 | 0 | 0 | 0 | ⋯ | 0 | 0 | 0 | 0 | 0 | 0 | 0 | 0 | 0 | 0 |\n",
       "| 22 | 1.000000e+00 | e | 0 | 0 | 0 | 0 | 0 | 0 | 0 | 0 | ⋯ | 0 | 0 | 0 | 0 | 0 | 0 | 0 | 0 | 0 | 0 |\n",
       "| 23 | 2.220446e-16 | e | 0 | 0 | 0 | 0 | 0 | 0 | 0 | 0 | ⋯ | 0 | 0 | 0 | 0 | 0 | 0 | 0 | 0 | 0 | 0 |\n",
       "| 24 | 2.220446e-16 | e | 0 | 0 | 0 | 0 | 0 | 0 | 0 | 0 | ⋯ | 0 | 0 | 0 | 0 | 0 | 0 | 0 | 0 | 0 | 0 |\n",
       "| 25 | 1.000000e+00 | e | 0 | 0 | 0 | 0 | 0 | 0 | 0 | 0 | ⋯ | 0 | 0 | 0 | 0 | 0 | 0 | 0 | 0 | 0 | 0 |\n",
       "| 26 | 1.000000e+00 | e | 0 | 0 | 0 | 0 | 0 | 0 | 0 | 0 | ⋯ | 0 | 0 | 0 | 0 | 0 | 0 | 0 | 0 | 0 | 0 |\n",
       "| 27 | 9.999998e-01 | e | 0 | 0 | 0 | 0 | 0 | 0 | 0 | 0 | ⋯ | 0 | 0 | 0 | 0 | 0 | 0 | 0 | 0 | 0 | 0 |\n",
       "| 28 | 2.220446e-16 | f | 0 | 0 | 0 | 0 | 0 | 0 | 0 | 0 | ⋯ | 0 | 0 | 0 | 0 | 0 | 0 | 0 | 0 | 0 | 0 |\n",
       "| 29 | 2.220446e-16 | f | 0 | 0 | 0 | 0 | 0 | 0 | 0 | 0 | ⋯ | 0 | 0 | 0 | 0 | 0 | 0 | 0 | 0 | 0 | 0 |\n",
       "| 30 | 1.000000e+00 | f | 0 | 0 | 0 | 0 | 0 | 0 | 0 | 0 | ⋯ | 0 | 0 | 0 | 0 | 0 | 0 | 0 | 0 | 0 | 0 |\n",
       "| ⋮ | ⋮ | ⋮ | ⋮ | ⋮ | ⋮ | ⋮ | ⋮ | ⋮ | ⋮ | ⋮ | ⋱ | ⋮ | ⋮ | ⋮ | ⋮ | ⋮ | ⋮ | ⋮ | ⋮ | ⋮ | ⋮ |\n",
       "| 108 | 2.220446e-16 | t | 0 | 0 | 0 | 0 | 0 | 0 | 0 | 0 | ⋯ |   0 | 0 | 0 | 0 | 0 | 0 | 0 | 0 | 0 | 0 |\n",
       "| 109 | 1.000000e+00 | t | 0 | 0 | 0 | 0 | 0 | 0 | 0 | 0 | ⋯ |   0 | 0 | 0 | 0 | 0 | 0 | 0 | 0 | 0 | 0 |\n",
       "| 110 | 1.000000e+00 | t | 0 | 0 | 0 | 0 | 0 | 0 | 0 | 0 | ⋯ |   0 | 0 | 0 | 0 | 0 | 0 | 0 | 0 | 0 | 0 |\n",
       "| 111 | 1.000000e+00 | u | 0 | 0 | 0 | 0 | 0 | 0 | 0 | 0 | ⋯ |   0 | 0 | 0 | 0 | 0 | 0 | 0 | 0 | 0 | 0 |\n",
       "| 112 | 2.220446e-16 | u | 0 | 0 | 0 | 0 | 0 | 0 | 0 | 0 | ⋯ |   0 | 0 | 0 | 0 | 0 | 0 | 0 | 0 | 0 | 0 |\n",
       "| 113 | 2.220446e-16 | u | 0 | 0 | 0 | 0 | 0 | 0 | 0 | 0 | ⋯ |   0 | 0 | 0 | 0 | 0 | 0 | 0 | 0 | 0 | 0 |\n",
       "| 114 | 1.000000e+00 | u | 0 | 0 | 0 | 0 | 0 | 0 | 0 | 0 | ⋯ |   0 | 0 | 0 | 0 | 0 | 0 | 0 | 0 | 0 | 0 |\n",
       "| 115 | 1.000000e+00 | v | 0 | 0 | 0 | 0 | 0 | 0 | 0 | 0 | ⋯ |   0 | 0 | 0 | 0 | 0 | 0 | 0 | 0 | 0 | 0 |\n",
       "| 116 | 2.220446e-16 | v | 0 | 0 | 0 | 0 | 0 | 0 | 0 | 0 | ⋯ |   0 | 0 | 0 | 0 | 0 | 0 | 0 | 0 | 0 | 0 |\n",
       "| 117 | 2.220446e-16 | v | 0 | 0 | 0 | 0 | 0 | 0 | 0 | 0 | ⋯ |   0 | 0 | 0 | 0 | 0 | 0 | 0 | 0 | 0 | 0 |\n",
       "| 118 | 1.000000e+00 | v | 0 | 0 | 0 | 0 | 0 | 0 | 0 | 0 | ⋯ |   0 | 0 | 0 | 0 | 0 | 0 | 0 | 0 | 0 | 0 |\n",
       "| 119 | 1.000000e+00 | v | 0 | 0 | 0 | 0 | 0 | 0 | 0 | 0 | ⋯ |   0 | 0 | 0 | 0 | 0 | 0 | 0 | 0 | 0 | 0 |\n",
       "| 120 | 1.000000e+00 | v | 0 | 0 | 0 | 0 | 0 | 0 | 0 | 0 | ⋯ |   0 | 0 | 0 | 0 | 0 | 0 | 0 | 0 | 0 | 0 |\n",
       "| 121 | 2.220446e-16 | v | 0 | 0 | 0 | 0 | 0 | 0 | 0 | 0 | ⋯ |   0 | 0 | 0 | 0 | 0 | 0 | 0 | 0 | 0 | 0 |\n",
       "| 122 | 1.000000e+00 | v | 0 | 0 | 0 | 0 | 0 | 0 | 0 | 0 | ⋯ |   0 | 0 | 0 | 0 | 0 | 0 | 0 | 0 | 0 | 0 |\n",
       "| 123 | 2.220446e-16 | w | 0 | 0 | 0 | 0 | 0 | 0 | 0 | 0 | ⋯ |   0 | 0 | 0 | 0 | 0 | 0 | 0 | 0 | 0 | 0 |\n",
       "| 124 | 1.000000e+00 | w | 0 | 0 | 0 | 0 | 0 | 0 | 0 | 0 | ⋯ |   0 | 0 | 0 | 0 | 0 | 0 | 0 | 0 | 0 | 0 |\n",
       "| 125 | 1.000000e+00 | x | 0 | 0 | 0 | 0 | 0 | 0 | 0 | 0 | ⋯ |   0 | 0 | 0 | 0 | 0 | 0 | 0 | 0 | 0 | 0 |\n",
       "| 126 | 2.220446e-16 | x | 0 | 0 | 0 | 0 | 0 | 0 | 0 | 0 | ⋯ |   0 | 0 | 0 | 0 | 0 | 0 | 0 | 0 | 0 | 0 |\n",
       "| 127 | 2.220446e-16 | x | 0 | 0 | 0 | 0 | 0 | 0 | 0 | 0 | ⋯ |   0 | 0 | 0 | 0 | 0 | 0 | 0 | 0 | 0 | 0 |\n",
       "| 128 | 1.000000e+00 | x | 0 | 0 | 0 | 0 | 0 | 0 | 0 | 0 | ⋯ |   0 | 0 | 0 | 0 | 0 | 0 | 0 | 0 | 0 | 0 |\n",
       "| 129 | 1.000000e+00 | x | 0 | 0 | 0 | 0 | 0 | 0 | 0 | 0 | ⋯ |   0 | 0 | 0 | 0 | 0 | 0 | 0 | 0 | 0 | 0 |\n",
       "| 130 | 1.000000e+00 | y | 0 | 0 | 0 | 0 | 0 | 0 | 0 | 0 | ⋯ | 128 | 3 | 0 | 0 | 0 | 0 | 0 | 0 | 0 | 0 |\n",
       "| 131 | 1.000000e+00 | y | 0 | 0 | 0 | 0 | 0 | 0 | 0 | 0 | ⋯ |   0 | 0 | 0 | 0 | 0 | 0 | 0 | 0 | 0 | 0 |\n",
       "| 132 | 1.000000e+00 | y | 0 | 0 | 0 | 0 | 0 | 0 | 0 | 0 | ⋯ |   0 | 0 | 0 | 0 | 0 | 0 | 0 | 0 | 0 | 0 |\n",
       "| 133 | 2.220446e-16 | y | 0 | 0 | 0 | 0 | 0 | 0 | 0 | 0 | ⋯ |   0 | 0 | 0 | 0 | 0 | 0 | 0 | 0 | 0 | 0 |\n",
       "| 134 | 1.000000e+00 | y | 0 | 0 | 0 | 0 | 0 | 0 | 0 | 0 | ⋯ |   0 | 0 | 0 | 0 | 0 | 0 | 0 | 0 | 0 | 0 |\n",
       "| 135 | 9.994577e-01 | z | 0 | 0 | 0 | 0 | 0 | 0 | 0 | 0 | ⋯ |   0 | 0 | 0 | 0 | 0 | 0 | 0 | 0 | 0 | 0 |\n",
       "| 136 | 1.000000e+00 | z | 0 | 0 | 0 | 0 | 0 | 0 | 0 | 0 | ⋯ |   0 | 0 | 0 | 0 | 0 | 0 | 0 | 0 | 0 | 0 |\n",
       "| 137 | 2.220446e-16 | z | 0 | 0 | 0 | 0 | 0 | 0 | 0 | 0 | ⋯ |   0 | 0 | 0 | 0 | 0 | 0 | 0 | 0 | 0 | 0 |\n",
       "\n"
      ],
      "text/plain": [
       "    probability  label 1 2 3 4 5 6 7 8 ⋯ 775 776 777 778 779 780 781 782 783\n",
       "1   2.220446e-16 a     0 0 0 0 0 0 0 0 ⋯ 0   0   0   0   0   0   0   0   0  \n",
       "2   7.712169e-03 a     0 0 0 0 0 0 0 0 ⋯ 0   0   0   0   0   0   0   0   0  \n",
       "3   1.000000e+00 a     0 0 0 0 0 0 0 0 ⋯ 0   0   0   0   0   0   0   0   0  \n",
       "4   1.000000e+00 a     0 0 0 0 0 0 0 0 ⋯ 0   0   0   0   0   0   0   0   0  \n",
       "5   1.000000e+00 b     0 0 0 0 0 0 0 0 ⋯ 0   0   0   0   0   0   0   0   0  \n",
       "6   9.999992e-01 b     0 0 0 0 0 0 0 0 ⋯ 0   0   0   0   0   0   0   0   0  \n",
       "7   1.000000e+00 b     0 0 0 0 0 0 0 0 ⋯ 0   0   0   0   0   0   0   0   0  \n",
       "8   1.000000e+00 b     0 0 0 0 0 0 0 0 ⋯ 0   0   0   0   0   0   0   0   0  \n",
       "9   1.000000e+00 b     0 0 0 0 0 0 0 0 ⋯ 0   0   0   0   0   0   0   0   0  \n",
       "10  4.727352e-01 b     0 0 0 0 0 0 0 0 ⋯ 0   0   0   0   0   0   0   0   0  \n",
       "11  1.000000e+00 b     0 0 0 0 0 0 0 0 ⋯ 0   0   0   0   0   0   0   0   0  \n",
       "12  1.000000e+00 b     0 0 0 0 0 0 0 0 ⋯ 0   0   0   0   0   0   0   0   0  \n",
       "13  3.338664e-10 b     0 0 0 0 0 0 0 0 ⋯ 0   0   0   0   0   0   0   0   0  \n",
       "14  1.000000e+00 b     0 0 0 0 0 0 0 0 ⋯ 0   0   0   0   0   0   0   0   0  \n",
       "15  2.220446e-16 b     0 0 0 0 0 0 0 0 ⋯ 0   0   0   0   0   0   0   0   0  \n",
       "16  9.981816e-01 c     0 0 0 0 0 0 0 0 ⋯ 0   0   0   0   0   0   0   0   0  \n",
       "17  2.220446e-16 c     0 0 0 0 0 0 0 0 ⋯ 0   0   0   0   0   0   0   0   0  \n",
       "18  2.220446e-16 c     0 0 0 0 0 0 0 0 ⋯ 0   0   0   0   0   0   0   0   0  \n",
       "19  1.000000e+00 d     0 0 0 0 0 0 0 0 ⋯ 0   0   0   0   0   0   0   0   0  \n",
       "20  1.000000e+00 d     0 0 0 0 0 0 0 0 ⋯ 0   0   0   0   0   0   0   0   0  \n",
       "21  9.999867e-01 d     0 0 0 0 0 0 0 0 ⋯ 0   0   0   0   0   0   0   0   0  \n",
       "22  1.000000e+00 e     0 0 0 0 0 0 0 0 ⋯ 0   0   0   0   0   0   0   0   0  \n",
       "23  2.220446e-16 e     0 0 0 0 0 0 0 0 ⋯ 0   0   0   0   0   0   0   0   0  \n",
       "24  2.220446e-16 e     0 0 0 0 0 0 0 0 ⋯ 0   0   0   0   0   0   0   0   0  \n",
       "25  1.000000e+00 e     0 0 0 0 0 0 0 0 ⋯ 0   0   0   0   0   0   0   0   0  \n",
       "26  1.000000e+00 e     0 0 0 0 0 0 0 0 ⋯ 0   0   0   0   0   0   0   0   0  \n",
       "27  9.999998e-01 e     0 0 0 0 0 0 0 0 ⋯ 0   0   0   0   0   0   0   0   0  \n",
       "28  2.220446e-16 f     0 0 0 0 0 0 0 0 ⋯ 0   0   0   0   0   0   0   0   0  \n",
       "29  2.220446e-16 f     0 0 0 0 0 0 0 0 ⋯ 0   0   0   0   0   0   0   0   0  \n",
       "30  1.000000e+00 f     0 0 0 0 0 0 0 0 ⋯ 0   0   0   0   0   0   0   0   0  \n",
       "⋮   ⋮            ⋮     ⋮ ⋮ ⋮ ⋮ ⋮ ⋮ ⋮ ⋮ ⋱ ⋮   ⋮   ⋮   ⋮   ⋮   ⋮   ⋮   ⋮   ⋮  \n",
       "108 2.220446e-16 t     0 0 0 0 0 0 0 0 ⋯   0 0   0   0   0   0   0   0   0  \n",
       "109 1.000000e+00 t     0 0 0 0 0 0 0 0 ⋯   0 0   0   0   0   0   0   0   0  \n",
       "110 1.000000e+00 t     0 0 0 0 0 0 0 0 ⋯   0 0   0   0   0   0   0   0   0  \n",
       "111 1.000000e+00 u     0 0 0 0 0 0 0 0 ⋯   0 0   0   0   0   0   0   0   0  \n",
       "112 2.220446e-16 u     0 0 0 0 0 0 0 0 ⋯   0 0   0   0   0   0   0   0   0  \n",
       "113 2.220446e-16 u     0 0 0 0 0 0 0 0 ⋯   0 0   0   0   0   0   0   0   0  \n",
       "114 1.000000e+00 u     0 0 0 0 0 0 0 0 ⋯   0 0   0   0   0   0   0   0   0  \n",
       "115 1.000000e+00 v     0 0 0 0 0 0 0 0 ⋯   0 0   0   0   0   0   0   0   0  \n",
       "116 2.220446e-16 v     0 0 0 0 0 0 0 0 ⋯   0 0   0   0   0   0   0   0   0  \n",
       "117 2.220446e-16 v     0 0 0 0 0 0 0 0 ⋯   0 0   0   0   0   0   0   0   0  \n",
       "118 1.000000e+00 v     0 0 0 0 0 0 0 0 ⋯   0 0   0   0   0   0   0   0   0  \n",
       "119 1.000000e+00 v     0 0 0 0 0 0 0 0 ⋯   0 0   0   0   0   0   0   0   0  \n",
       "120 1.000000e+00 v     0 0 0 0 0 0 0 0 ⋯   0 0   0   0   0   0   0   0   0  \n",
       "121 2.220446e-16 v     0 0 0 0 0 0 0 0 ⋯   0 0   0   0   0   0   0   0   0  \n",
       "122 1.000000e+00 v     0 0 0 0 0 0 0 0 ⋯   0 0   0   0   0   0   0   0   0  \n",
       "123 2.220446e-16 w     0 0 0 0 0 0 0 0 ⋯   0 0   0   0   0   0   0   0   0  \n",
       "124 1.000000e+00 w     0 0 0 0 0 0 0 0 ⋯   0 0   0   0   0   0   0   0   0  \n",
       "125 1.000000e+00 x     0 0 0 0 0 0 0 0 ⋯   0 0   0   0   0   0   0   0   0  \n",
       "126 2.220446e-16 x     0 0 0 0 0 0 0 0 ⋯   0 0   0   0   0   0   0   0   0  \n",
       "127 2.220446e-16 x     0 0 0 0 0 0 0 0 ⋯   0 0   0   0   0   0   0   0   0  \n",
       "128 1.000000e+00 x     0 0 0 0 0 0 0 0 ⋯   0 0   0   0   0   0   0   0   0  \n",
       "129 1.000000e+00 x     0 0 0 0 0 0 0 0 ⋯   0 0   0   0   0   0   0   0   0  \n",
       "130 1.000000e+00 y     0 0 0 0 0 0 0 0 ⋯ 128 3   0   0   0   0   0   0   0  \n",
       "131 1.000000e+00 y     0 0 0 0 0 0 0 0 ⋯   0 0   0   0   0   0   0   0   0  \n",
       "132 1.000000e+00 y     0 0 0 0 0 0 0 0 ⋯   0 0   0   0   0   0   0   0   0  \n",
       "133 2.220446e-16 y     0 0 0 0 0 0 0 0 ⋯   0 0   0   0   0   0   0   0   0  \n",
       "134 1.000000e+00 y     0 0 0 0 0 0 0 0 ⋯   0 0   0   0   0   0   0   0   0  \n",
       "135 9.994577e-01 z     0 0 0 0 0 0 0 0 ⋯   0 0   0   0   0   0   0   0   0  \n",
       "136 1.000000e+00 z     0 0 0 0 0 0 0 0 ⋯   0 0   0   0   0   0   0   0   0  \n",
       "137 2.220446e-16 z     0 0 0 0 0 0 0 0 ⋯   0 0   0   0   0   0   0   0   0  \n",
       "    784\n",
       "1   0  \n",
       "2   0  \n",
       "3   0  \n",
       "4   0  \n",
       "5   0  \n",
       "6   0  \n",
       "7   0  \n",
       "8   0  \n",
       "9   0  \n",
       "10  0  \n",
       "11  0  \n",
       "12  0  \n",
       "13  0  \n",
       "14  0  \n",
       "15  0  \n",
       "16  0  \n",
       "17  0  \n",
       "18  0  \n",
       "19  0  \n",
       "20  0  \n",
       "21  0  \n",
       "22  0  \n",
       "23  0  \n",
       "24  0  \n",
       "25  0  \n",
       "26  0  \n",
       "27  0  \n",
       "28  0  \n",
       "29  0  \n",
       "30  0  \n",
       "⋮   ⋮  \n",
       "108 0  \n",
       "109 0  \n",
       "110 0  \n",
       "111 0  \n",
       "112 0  \n",
       "113 0  \n",
       "114 0  \n",
       "115 0  \n",
       "116 0  \n",
       "117 0  \n",
       "118 0  \n",
       "119 0  \n",
       "120 0  \n",
       "121 0  \n",
       "122 0  \n",
       "123 0  \n",
       "124 0  \n",
       "125 0  \n",
       "126 0  \n",
       "127 0  \n",
       "128 0  \n",
       "129 0  \n",
       "130 0  \n",
       "131 0  \n",
       "132 0  \n",
       "133 0  \n",
       "134 0  \n",
       "135 0  \n",
       "136 0  \n",
       "137 0  "
      ]
     },
     "metadata": {},
     "output_type": "display_data"
    }
   ],
   "source": [
    "#Step7 Predicting using logical regression model\n",
    "pred_test1 <- predict(chr_lrm,chr_testing,type=\"response\")\n",
    "\n",
    "test_with_prob1<-data.frame(probability=pred_test)|>\n",
    "                bind_cols(chr_testing)\n",
    "test_with_prob1"
   ]
  },
  {
   "cell_type": "code",
   "execution_count": 42,
   "id": "c31b66bb-3f6a-455c-ad28-139a80f7c330",
   "metadata": {},
   "outputs": [
    {
     "data": {
      "image/png": "[encoded data removed]",
      "text/plain": [
       "plot without title"
      ]
     },
     "metadata": {
      "image/png": {
       "height": 420,
       "width": 420
      }
     },
     "output_type": "display_data"
    }
   ],
   "source": [
    "#Step8 Visualizing the frequency distribution of different probabilities\n",
    "prob_plot1<-ggplot(test_with_prob,aes(x=probability,fill=label))+\n",
    "                geom_histogram(binwidth = 0.001)+\n",
    "                stat_bin(bins=100)\n",
    "prob_plot1"
   ]
  },
  {
   "cell_type": "code",
   "execution_count": null,
   "id": "d0ad1fba-b3c0-4034-baa4-4d72d49e0b10",
   "metadata": {},
   "outputs": [],
   "source": []
  }
 ],
 "metadata": {
  "kernelspec": {
   "display_name": "R",
   "language": "R",
   "name": "ir"
  },
  "language_info": {
   "codemirror_mode": "r",
   "file_extension": ".r",
   "mimetype": "text/x-r-source",
   "name": "R",
   "pygments_lexer": "r",
   "version": "4.1.3"
  }
 },
 "nbformat": 4,
 "nbformat_minor": 5
}
