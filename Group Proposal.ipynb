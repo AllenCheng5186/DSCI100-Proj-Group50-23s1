{
 "cells": [
  {
   "cell_type": "markdown",
   "id": "994f00b1-da6d-4a24-b3e6-5add65211ca9",
   "metadata": {},
   "source": [
    "# Group  Proposal"
   ]
  },
  {
   "cell_type": "markdown",
   "id": "676d9bca-9296-4000-a83a-794d8cafba58",
   "metadata": {},
   "source": [
    "test"
   ]
  }
 ],
 "metadata": {
  "kernelspec": {
   "display_name": "R",
   "language": "R",
   "name": "ir"
  },
  "language_info": {
   "codemirror_mode": "r",
   "file_extension": ".r",
   "mimetype": "text/x-r-source",
   "name": "R",
   "pygments_lexer": "r",
   "version": "4.3.0"
  }
 },
 "nbformat": 4,
 "nbformat_minor": 5
}
