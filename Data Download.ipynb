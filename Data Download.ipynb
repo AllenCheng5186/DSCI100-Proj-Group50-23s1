{
 "cells": [
  {
   "cell_type": "code",
   "execution_count": 1,
   "id": "433fc9b6-2e38-484a-bf9a-566a4bc49602",
   "metadata": {},
   "outputs": [
    {
     "name": "stderr",
     "output_type": "stream",
     "text": [
      "── \u001b[1mAttaching core tidyverse packages\u001b[22m ────────────────────────────────────────── tidyverse 2.0.0 ──\n",
      "\u001b[32m✔\u001b[39m \u001b[34mdplyr    \u001b[39m 1.1.2     \u001b[32m✔\u001b[39m \u001b[34mreadr    \u001b[39m 2.1.4\n",
      "\u001b[32m✔\u001b[39m \u001b[34mforcats  \u001b[39m 1.0.0     \u001b[32m✔\u001b[39m \u001b[34mstringr  \u001b[39m 1.5.0\n",
      "\u001b[32m✔\u001b[39m \u001b[34mggplot2  \u001b[39m 3.4.2     \u001b[32m✔\u001b[39m \u001b[34mtibble   \u001b[39m 3.2.1\n",
      "\u001b[32m✔\u001b[39m \u001b[34mlubridate\u001b[39m 1.9.2     \u001b[32m✔\u001b[39m \u001b[34mtidyr    \u001b[39m 1.3.0\n",
      "\u001b[32m✔\u001b[39m \u001b[34mpurrr    \u001b[39m 1.0.1     \n",
      "── \u001b[1mConflicts\u001b[22m ──────────────────────────────────────────────────────────── tidyverse_conflicts() ──\n",
      "\u001b[31m✖\u001b[39m \u001b[34mdplyr\u001b[39m::\u001b[32mfilter()\u001b[39m masks \u001b[34mstats\u001b[39m::filter()\n",
      "\u001b[31m✖\u001b[39m \u001b[34mdplyr\u001b[39m::\u001b[32mlag()\u001b[39m    masks \u001b[34mstats\u001b[39m::lag()\n",
      "\u001b[36mℹ\u001b[39m Use the conflicted package (\u001b[3m\u001b[34m<http://conflicted.r-lib.org/>\u001b[39m\u001b[23m) to force all conflicts to become errors\n",
      "── \u001b[1mAttaching packages\u001b[22m ──────────────────────────────────────────────────────── tidymodels 1.1.0 ──\n",
      "\n",
      "\u001b[32m✔\u001b[39m \u001b[34mbroom       \u001b[39m 1.0.4     \u001b[32m✔\u001b[39m \u001b[34mrsample     \u001b[39m 1.1.1\n",
      "\u001b[32m✔\u001b[39m \u001b[34mdials       \u001b[39m 1.2.0     \u001b[32m✔\u001b[39m \u001b[34mtune        \u001b[39m 1.1.1\n",
      "\u001b[32m✔\u001b[39m \u001b[34minfer       \u001b[39m 1.0.4     \u001b[32m✔\u001b[39m \u001b[34mworkflows   \u001b[39m 1.1.3\n",
      "\u001b[32m✔\u001b[39m \u001b[34mmodeldata   \u001b[39m 1.1.0     \u001b[32m✔\u001b[39m \u001b[34mworkflowsets\u001b[39m 1.0.1\n",
      "\u001b[32m✔\u001b[39m \u001b[34mparsnip     \u001b[39m 1.1.0     \u001b[32m✔\u001b[39m \u001b[34myardstick   \u001b[39m 1.2.0\n",
      "\u001b[32m✔\u001b[39m \u001b[34mrecipes     \u001b[39m 1.0.6     \n",
      "\n",
      "── \u001b[1mConflicts\u001b[22m ─────────────────────────────────────────────────────────── tidymodels_conflicts() ──\n",
      "\u001b[31m✖\u001b[39m \u001b[34mscales\u001b[39m::\u001b[32mdiscard()\u001b[39m masks \u001b[34mpurrr\u001b[39m::discard()\n",
      "\u001b[31m✖\u001b[39m \u001b[34mdplyr\u001b[39m::\u001b[32mfilter()\u001b[39m   masks \u001b[34mstats\u001b[39m::filter()\n",
      "\u001b[31m✖\u001b[39m \u001b[34mrecipes\u001b[39m::\u001b[32mfixed()\u001b[39m  masks \u001b[34mstringr\u001b[39m::fixed()\n",
      "\u001b[31m✖\u001b[39m \u001b[34mdplyr\u001b[39m::\u001b[32mlag()\u001b[39m      masks \u001b[34mstats\u001b[39m::lag()\n",
      "\u001b[31m✖\u001b[39m \u001b[34myardstick\u001b[39m::\u001b[32mspec()\u001b[39m masks \u001b[34mreadr\u001b[39m::spec()\n",
      "\u001b[31m✖\u001b[39m \u001b[34mrecipes\u001b[39m::\u001b[32mstep()\u001b[39m   masks \u001b[34mstats\u001b[39m::step()\n",
      "\u001b[34m•\u001b[39m Dig deeper into tidy modeling with R at \u001b[32mhttps://www.tmwr.org\u001b[39m\n",
      "\n"
     ]
    }
   ],
   "source": [
    "library(tidyverse)\n",
    "library(tidymodels)"
   ]
  },
  {
   "cell_type": "code",
   "execution_count": 3,
   "id": "588b2750-565e-4bcb-88eb-3976af4bfd84",
   "metadata": {},
   "outputs": [
    {
     "name": "stderr",
     "output_type": "stream",
     "text": [
      "\u001b[1m\u001b[22mNew names:\n",
      "\u001b[36m•\u001b[39m `` -> `...1`\n",
      "\u001b[1mRows: \u001b[22m\u001b[34m10000\u001b[39m \u001b[1mColumns: \u001b[22m\u001b[34m786\u001b[39m\n",
      "\u001b[36m──\u001b[39m \u001b[1mColumn specification\u001b[22m \u001b[36m──────────────────────────────────────────────────────────────────────────\u001b[39m\n",
      "\u001b[1mDelimiter:\u001b[22m \",\"\n",
      "\u001b[32mdbl\u001b[39m (786): ...1, label, 0, 1, 2, 3, 4, 5, 6, 7, 8, 9, 10, 11, 12, 13, 14, 15...\n",
      "\n",
      "\u001b[36mℹ\u001b[39m Use `spec()` to retrieve the full column specification for this data.\n",
      "\u001b[36mℹ\u001b[39m Specify the column types or set `show_col_types = FALSE` to quiet this message.\n"
     ]
    },
    {
     "data": {
      "text/html": [
       "<table class=\"dataframe\">\n",
       "<caption>A tibble: 6 × 786</caption>\n",
       "<thead>\n",
       "\t<tr><th scope=col>...1</th><th scope=col>label</th><th scope=col>0</th><th scope=col>1</th><th scope=col>2</th><th scope=col>3</th><th scope=col>4</th><th scope=col>5</th><th scope=col>6</th><th scope=col>7</th><th scope=col>⋯</th><th scope=col>774</th><th scope=col>775</th><th scope=col>776</th><th scope=col>777</th><th scope=col>778</th><th scope=col>779</th><th scope=col>780</th><th scope=col>781</th><th scope=col>782</th><th scope=col>783</th></tr>\n",
       "\t<tr><th scope=col>&lt;dbl&gt;</th><th scope=col>&lt;dbl&gt;</th><th scope=col>&lt;dbl&gt;</th><th scope=col>&lt;dbl&gt;</th><th scope=col>&lt;dbl&gt;</th><th scope=col>&lt;dbl&gt;</th><th scope=col>&lt;dbl&gt;</th><th scope=col>&lt;dbl&gt;</th><th scope=col>&lt;dbl&gt;</th><th scope=col>&lt;dbl&gt;</th><th scope=col>⋯</th><th scope=col>&lt;dbl&gt;</th><th scope=col>&lt;dbl&gt;</th><th scope=col>&lt;dbl&gt;</th><th scope=col>&lt;dbl&gt;</th><th scope=col>&lt;dbl&gt;</th><th scope=col>&lt;dbl&gt;</th><th scope=col>&lt;dbl&gt;</th><th scope=col>&lt;dbl&gt;</th><th scope=col>&lt;dbl&gt;</th><th scope=col>&lt;dbl&gt;</th></tr>\n",
       "</thead>\n",
       "<tbody>\n",
       "\t<tr><td>0</td><td>2</td><td>0</td><td>97</td><td>35</td><td>0</td><td>0</td><td> 0</td><td>  0</td><td>  0</td><td>⋯</td><td>  0</td><td>  0</td><td>0</td><td>  0</td><td>  0</td><td> 0</td><td>0</td><td>0</td><td>0</td><td>0</td></tr>\n",
       "\t<tr><td>1</td><td>9</td><td>0</td><td> 0</td><td> 0</td><td>0</td><td>0</td><td>24</td><td> 72</td><td>  0</td><td>⋯</td><td>251</td><td>149</td><td>1</td><td>  0</td><td>  0</td><td> 0</td><td>0</td><td>0</td><td>0</td><td>0</td></tr>\n",
       "\t<tr><td>2</td><td>3</td><td>0</td><td> 0</td><td> 0</td><td>0</td><td>0</td><td> 0</td><td>  0</td><td>  0</td><td>⋯</td><td>  0</td><td>  0</td><td>0</td><td>  0</td><td>  0</td><td> 0</td><td>0</td><td>0</td><td>0</td><td>0</td></tr>\n",
       "\t<tr><td>3</td><td>8</td><td>0</td><td> 0</td><td> 0</td><td>0</td><td>0</td><td>17</td><td>138</td><td>195</td><td>⋯</td><td>  0</td><td>  0</td><td>0</td><td>  0</td><td>  0</td><td> 0</td><td>0</td><td>0</td><td>0</td><td>0</td></tr>\n",
       "\t<tr><td>4</td><td>3</td><td>0</td><td> 0</td><td> 0</td><td>0</td><td>0</td><td> 0</td><td>  0</td><td>  0</td><td>⋯</td><td>  0</td><td>  0</td><td>0</td><td>  0</td><td>  0</td><td> 0</td><td>0</td><td>0</td><td>0</td><td>0</td></tr>\n",
       "\t<tr><td>5</td><td>3</td><td>0</td><td> 0</td><td> 0</td><td>0</td><td>0</td><td> 0</td><td>  0</td><td>  0</td><td>⋯</td><td>  0</td><td>  0</td><td>6</td><td>154</td><td>226</td><td>36</td><td>0</td><td>0</td><td>0</td><td>0</td></tr>\n",
       "</tbody>\n",
       "</table>\n"
      ],
      "text/latex": [
       "A tibble: 6 × 786\n",
       "\\begin{tabular}{lllllllllllllllllllll}\n",
       " ...1 & label & 0 & 1 & 2 & 3 & 4 & 5 & 6 & 7 & ⋯ & 774 & 775 & 776 & 777 & 778 & 779 & 780 & 781 & 782 & 783\\\\\n",
       " <dbl> & <dbl> & <dbl> & <dbl> & <dbl> & <dbl> & <dbl> & <dbl> & <dbl> & <dbl> & ⋯ & <dbl> & <dbl> & <dbl> & <dbl> & <dbl> & <dbl> & <dbl> & <dbl> & <dbl> & <dbl>\\\\\n",
       "\\hline\n",
       "\t 0 & 2 & 0 & 97 & 35 & 0 & 0 &  0 &   0 &   0 & ⋯ &   0 &   0 & 0 &   0 &   0 &  0 & 0 & 0 & 0 & 0\\\\\n",
       "\t 1 & 9 & 0 &  0 &  0 & 0 & 0 & 24 &  72 &   0 & ⋯ & 251 & 149 & 1 &   0 &   0 &  0 & 0 & 0 & 0 & 0\\\\\n",
       "\t 2 & 3 & 0 &  0 &  0 & 0 & 0 &  0 &   0 &   0 & ⋯ &   0 &   0 & 0 &   0 &   0 &  0 & 0 & 0 & 0 & 0\\\\\n",
       "\t 3 & 8 & 0 &  0 &  0 & 0 & 0 & 17 & 138 & 195 & ⋯ &   0 &   0 & 0 &   0 &   0 &  0 & 0 & 0 & 0 & 0\\\\\n",
       "\t 4 & 3 & 0 &  0 &  0 & 0 & 0 &  0 &   0 &   0 & ⋯ &   0 &   0 & 0 &   0 &   0 &  0 & 0 & 0 & 0 & 0\\\\\n",
       "\t 5 & 3 & 0 &  0 &  0 & 0 & 0 &  0 &   0 &   0 & ⋯ &   0 &   0 & 6 & 154 & 226 & 36 & 0 & 0 & 0 & 0\\\\\n",
       "\\end{tabular}\n"
      ],
      "text/markdown": [
       "\n",
       "A tibble: 6 × 786\n",
       "\n",
       "| ...1 &lt;dbl&gt; | label &lt;dbl&gt; | 0 &lt;dbl&gt; | 1 &lt;dbl&gt; | 2 &lt;dbl&gt; | 3 &lt;dbl&gt; | 4 &lt;dbl&gt; | 5 &lt;dbl&gt; | 6 &lt;dbl&gt; | 7 &lt;dbl&gt; | ⋯ ⋯ | 774 &lt;dbl&gt; | 775 &lt;dbl&gt; | 776 &lt;dbl&gt; | 777 &lt;dbl&gt; | 778 &lt;dbl&gt; | 779 &lt;dbl&gt; | 780 &lt;dbl&gt; | 781 &lt;dbl&gt; | 782 &lt;dbl&gt; | 783 &lt;dbl&gt; |\n",
       "|---|---|---|---|---|---|---|---|---|---|---|---|---|---|---|---|---|---|---|---|---|\n",
       "| 0 | 2 | 0 | 97 | 35 | 0 | 0 |  0 |   0 |   0 | ⋯ |   0 |   0 | 0 |   0 |   0 |  0 | 0 | 0 | 0 | 0 |\n",
       "| 1 | 9 | 0 |  0 |  0 | 0 | 0 | 24 |  72 |   0 | ⋯ | 251 | 149 | 1 |   0 |   0 |  0 | 0 | 0 | 0 | 0 |\n",
       "| 2 | 3 | 0 |  0 |  0 | 0 | 0 |  0 |   0 |   0 | ⋯ |   0 |   0 | 0 |   0 |   0 |  0 | 0 | 0 | 0 | 0 |\n",
       "| 3 | 8 | 0 |  0 |  0 | 0 | 0 | 17 | 138 | 195 | ⋯ |   0 |   0 | 0 |   0 |   0 |  0 | 0 | 0 | 0 | 0 |\n",
       "| 4 | 3 | 0 |  0 |  0 | 0 | 0 |  0 |   0 |   0 | ⋯ |   0 |   0 | 0 |   0 |   0 |  0 | 0 | 0 | 0 | 0 |\n",
       "| 5 | 3 | 0 |  0 |  0 | 0 | 0 |  0 |   0 |   0 | ⋯ |   0 |   0 | 6 | 154 | 226 | 36 | 0 | 0 | 0 | 0 |\n",
       "\n"
      ],
      "text/plain": [
       "  ...1 label 0 1  2  3 4 5  6   7   ⋯ 774 775 776 777 778 779 780 781 782 783\n",
       "1 0    2     0 97 35 0 0  0   0   0 ⋯   0   0 0     0   0  0  0   0   0   0  \n",
       "2 1    9     0  0  0 0 0 24  72   0 ⋯ 251 149 1     0   0  0  0   0   0   0  \n",
       "3 2    3     0  0  0 0 0  0   0   0 ⋯   0   0 0     0   0  0  0   0   0   0  \n",
       "4 3    8     0  0  0 0 0 17 138 195 ⋯   0   0 0     0   0  0  0   0   0   0  \n",
       "5 4    3     0  0  0 0 0  0   0   0 ⋯   0   0 0     0   0  0  0   0   0   0  \n",
       "6 5    3     0  0  0 0 0  0   0   0 ⋯   0   0 6   154 226 36  0   0   0   0  "
      ]
     },
     "metadata": {},
     "output_type": "display_data"
    }
   ],
   "source": [
    "downloaded_test <- read_csv(\"/Users/chengxiansheng/Downloads/archive/test_data.csv\")\n",
    "head(downloaded_test)"
   ]
  },
  {
   "cell_type": "code",
   "execution_count": 4,
   "id": "d0d5b43f-5754-4f64-8259-806ba928d0d3",
   "metadata": {},
   "outputs": [
    {
     "data": {
      "text/html": [
       "10000"
      ],
      "text/latex": [
       "10000"
      ],
      "text/markdown": [
       "10000"
      ],
      "text/plain": [
       "[1] 10000"
      ]
     },
     "metadata": {},
     "output_type": "display_data"
    }
   ],
   "source": [
    "nrow(downloaded_test)"
   ]
  },
  {
   "cell_type": "code",
   "execution_count": 8,
   "id": "1c353cb9-846a-4d37-9c50-204a0b368300",
   "metadata": {},
   "outputs": [],
   "source": [
    "set.seed(6688)\n",
    "dataset_split <- initial_split(downloaded_test, prop = 0.75, strata = label)\n",
    "training_dataset <- training(dataset_split)\n",
    "testing_dataset <- testing(dataset_split)"
   ]
  },
  {
   "cell_type": "code",
   "execution_count": 9,
   "id": "06f54e93-8e4a-44a5-9b7b-7ff41612f873",
   "metadata": {},
   "outputs": [
    {
     "data": {
      "text/html": [
       "7500"
      ],
      "text/latex": [
       "7500"
      ],
      "text/markdown": [
       "7500"
      ],
      "text/plain": [
       "[1] 7500"
      ]
     },
     "metadata": {},
     "output_type": "display_data"
    },
    {
     "data": {
      "text/html": [
       "2500"
      ],
      "text/latex": [
       "2500"
      ],
      "text/markdown": [
       "2500"
      ],
      "text/plain": [
       "[1] 2500"
      ]
     },
     "metadata": {},
     "output_type": "display_data"
    }
   ],
   "source": [
    "nrow(training_dataset)\n",
    "nrow(testing_dataset)"
   ]
  },
  {
   "cell_type": "code",
   "execution_count": 10,
   "id": "cfb8cacf-3e24-412a-99bf-6e13ffe0456e",
   "metadata": {},
   "outputs": [],
   "source": [
    "write_csv(training_dataset, \"data/training.csv\")\n",
    "write_csv(testing_dataset, \"data/testing.csv\")"
   ]
  }
 ],
 "metadata": {
  "kernelspec": {
   "display_name": "R",
   "language": "R",
   "name": "ir"
  },
  "language_info": {
   "codemirror_mode": "r",
   "file_extension": ".r",
   "mimetype": "text/x-r-source",
   "name": "R",
   "pygments_lexer": "r",
   "version": "4.3.0"
  }
 },
 "nbformat": 4,
 "nbformat_minor": 5
}
